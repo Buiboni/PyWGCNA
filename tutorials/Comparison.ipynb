{
 "cells": [
  {
   "cell_type": "markdown",
   "metadata": {},
   "source": [
    "# Comparing two PyWGCNAs\n",
    "\n",
    "## Read two PyWGCNA objects"
   ]
  },
  {
   "cell_type": "code",
   "execution_count": 2,
   "metadata": {},
   "outputs": [
    {
     "name": "stdout",
     "output_type": "stream",
     "text": [
      "\u001b[1m\u001b[94mReading WGCNA done!\u001b[0m\n",
      "\u001b[1m\u001b[94mReading WGCNA done!\u001b[0m\n"
     ]
    }
   ],
   "source": [
    "import PyWGCNA\n",
    "pyWGCNA_5xFAD = PyWGCNA.readWGCNA(\"5xFAD.p\")\n",
    "pyWGCNA_3xTgAD = PyWGCNA.readWGCNA(\"3xTgAD_paper/3xTgAD.p\")"
   ]
  },
  {
   "cell_type": "code",
   "execution_count": 3,
   "metadata": {},
   "outputs": [
    {
     "ename": "TypeError",
     "evalue": "'dict_keys' object is not subscriptable",
     "output_type": "error",
     "traceback": [
      "\u001b[0;31m---------------------------------------------------------------------------\u001b[0m",
      "\u001b[0;31mTypeError\u001b[0m                                 Traceback (most recent call last)",
      "\u001b[0;32m/var/folders/26/90_v4ll95wjdp9l6g2lxlm8r0000gn/T/ipykernel_72490/2307417040.py\u001b[0m in \u001b[0;36m<module>\u001b[0;34m\u001b[0m\n\u001b[1;32m      1\u001b[0m \u001b[0;31m#from utils import *\u001b[0m\u001b[0;34m\u001b[0m\u001b[0;34m\u001b[0m\u001b[0;34m\u001b[0m\u001b[0m\n\u001b[0;32m----> 2\u001b[0;31m \u001b[0mmodelAD_5xFAD_5xFAD\u001b[0m \u001b[0;34m=\u001b[0m \u001b[0mPyWGCNA\u001b[0m\u001b[0;34m.\u001b[0m\u001b[0mcompareWGCNA\u001b[0m\u001b[0;34m(\u001b[0m\u001b[0mpyWGCNA_5xFAD\u001b[0m\u001b[0;34m,\u001b[0m \u001b[0mpyWGCNA_3xTgAD\u001b[0m\u001b[0;34m)\u001b[0m\u001b[0;34m\u001b[0m\u001b[0;34m\u001b[0m\u001b[0m\n\u001b[0m",
      "\u001b[0;32m~/miniconda3/lib/python3.8/site-packages/PyWGCNA/utils.py\u001b[0m in \u001b[0;36mcompareWGCNA\u001b[0;34m(WGCNA1, WGCNA2)\u001b[0m\n\u001b[1;32m     58\u001b[0m     compare = Comparison(name1=WGCNA1.name, name2=WGCNA2.name,\n\u001b[1;32m     59\u001b[0m                          geneModule1=WGCNA1.geneModules, geneModule2=WGCNA2.geneModules)\n\u001b[0;32m---> 60\u001b[0;31m     \u001b[0mcompare\u001b[0m\u001b[0;34m.\u001b[0m\u001b[0mcompareWGCNA\u001b[0m\u001b[0;34m(\u001b[0m\u001b[0;34m)\u001b[0m\u001b[0;34m\u001b[0m\u001b[0;34m\u001b[0m\u001b[0m\n\u001b[0m\u001b[1;32m     61\u001b[0m \u001b[0;34m\u001b[0m\u001b[0m\n\u001b[1;32m     62\u001b[0m     \u001b[0;32mreturn\u001b[0m \u001b[0mcompare\u001b[0m\u001b[0;34m\u001b[0m\u001b[0;34m\u001b[0m\u001b[0m\n",
      "\u001b[0;32m~/miniconda3/lib/python3.8/site-packages/PyWGCNA/comparison.py\u001b[0m in \u001b[0;36mcompareWGCNA\u001b[0;34m(self)\u001b[0m\n\u001b[1;32m     70\u001b[0m         \u001b[0mcount\u001b[0m \u001b[0;34m=\u001b[0m \u001b[0;36m0\u001b[0m\u001b[0;34m\u001b[0m\u001b[0;34m\u001b[0m\u001b[0m\n\u001b[1;32m     71\u001b[0m         \u001b[0;32mfor\u001b[0m \u001b[0mi\u001b[0m \u001b[0;32min\u001b[0m \u001b[0mrange\u001b[0m\u001b[0;34m(\u001b[0m\u001b[0mlen\u001b[0m\u001b[0;34m(\u001b[0m\u001b[0mself\u001b[0m\u001b[0;34m.\u001b[0m\u001b[0mgeneModule1\u001b[0m\u001b[0;34m.\u001b[0m\u001b[0mkeys\u001b[0m\u001b[0;34m(\u001b[0m\u001b[0;34m)\u001b[0m\u001b[0;34m)\u001b[0m\u001b[0;34m)\u001b[0m\u001b[0;34m:\u001b[0m\u001b[0;34m\u001b[0m\u001b[0;34m\u001b[0m\u001b[0m\n\u001b[0;32m---> 72\u001b[0;31m             \u001b[0mnode1\u001b[0m \u001b[0;34m=\u001b[0m \u001b[0mself\u001b[0m\u001b[0;34m.\u001b[0m\u001b[0mgeneModule1\u001b[0m\u001b[0;34m[\u001b[0m\u001b[0mself\u001b[0m\u001b[0;34m.\u001b[0m\u001b[0mgeneModule1\u001b[0m\u001b[0;34m.\u001b[0m\u001b[0mkeys\u001b[0m\u001b[0;34m(\u001b[0m\u001b[0;34m)\u001b[0m\u001b[0;34m[\u001b[0m\u001b[0mi\u001b[0m\u001b[0;34m]\u001b[0m\u001b[0;34m]\u001b[0m\u001b[0;34m\u001b[0m\u001b[0;34m\u001b[0m\u001b[0m\n\u001b[0m\u001b[1;32m     73\u001b[0m             \u001b[0mgenes\u001b[0m \u001b[0;34m=\u001b[0m \u001b[0mgenes\u001b[0m \u001b[0;34m+\u001b[0m \u001b[0mnode1\u001b[0m\u001b[0;34m\u001b[0m\u001b[0;34m\u001b[0m\u001b[0m\n\u001b[1;32m     74\u001b[0m             \u001b[0;32mfor\u001b[0m \u001b[0mj\u001b[0m \u001b[0;32min\u001b[0m \u001b[0mrange\u001b[0m\u001b[0;34m(\u001b[0m\u001b[0mlen\u001b[0m\u001b[0;34m(\u001b[0m\u001b[0mself\u001b[0m\u001b[0;34m.\u001b[0m\u001b[0mgeneModule2\u001b[0m\u001b[0;34m.\u001b[0m\u001b[0mkeys\u001b[0m\u001b[0;34m(\u001b[0m\u001b[0;34m)\u001b[0m\u001b[0;34m)\u001b[0m\u001b[0;34m)\u001b[0m\u001b[0;34m:\u001b[0m\u001b[0;34m\u001b[0m\u001b[0;34m\u001b[0m\u001b[0m\n",
      "\u001b[0;31mTypeError\u001b[0m: 'dict_keys' object is not subscriptable"
     ]
    }
   ],
   "source": [
    "#from utils import *\n",
    "modelAD_5xFAD_5xFAD = PyWGCNA.compareWGCNA(pyWGCNA_5xFAD, pyWGCNA_3xTgAD)"
   ]
  },
  {
   "cell_type": "markdown",
   "metadata": {},
   "source": [
    "## Construction of the gene network and identification of modules\n",
    "\n",
    "PyWGCNA compress all the steps of network construction and module detection in one function called `findModules` including:\n",
    "1. Choosing the soft-thresholding power: analysis of network topology\n",
    "2. Co-expression similarity and adjacency\n",
    "3. Topological Overlap Matrix (TOM)\n",
    "4. Clustering using TOM\n",
    "5. Merging of modules whose expression profiles are very similar"
   ]
  },
  {
   "cell_type": "code",
   "execution_count": 3,
   "metadata": {},
   "outputs": [
    {
     "name": "stdout",
     "output_type": "stream",
     "text": [
      "\u001b[1m\u001b[94mRun WGCNA...\u001b[0m\n",
      "\u001b[96mpickSoftThreshold: calculating connectivity for given powers...\u001b[0m\n",
      "will use block size  1876\n",
      "    Power  SFT.R.sq     slope truncated R.sq      mean(k)    median(k)  \\\n",
      "0       1  0.368857 -0.481613       0.701585  2444.750756  2260.416614   \n",
      "1       2    0.7253  -0.99165       0.886361   840.665489   673.081241   \n",
      "2       3  0.791986 -1.194264       0.946969   385.685335   258.451265   \n",
      "3       4  0.835392   -1.3419       0.968446   207.404152   113.456087   \n",
      "4       5  0.853842 -1.472183       0.973346   123.232581    54.784481   \n",
      "5       6  0.870673 -1.553348       0.979584    78.455923     28.47124   \n",
      "6       7  0.886736 -1.600869       0.986635    52.572016    15.594822   \n",
      "7       8  0.896672 -1.639343       0.992373     36.65884     9.454046   \n",
      "8       9  0.903531 -1.677747       0.994643    26.397061     6.024431   \n",
      "9      10  0.906045 -1.706474       0.995895    19.521431     3.975959   \n",
      "10     11  0.905582 -1.731076       0.994806    14.767291     2.623921   \n",
      "11     13  0.914482 -1.751347       0.997466     8.941254     1.205108   \n",
      "12     15  0.912684 -1.771227       0.994189     5.759987     0.568044   \n",
      "13     17  0.912188 -1.774908       0.990829     3.905403     0.273242   \n",
      "14     19  0.907649 -1.774186       0.989457     2.766824     0.135454   \n",
      "\n",
      "         max(k)  \n",
      "0   5665.102661  \n",
      "1   3009.058821  \n",
      "2   1916.810605  \n",
      "3   1332.762771  \n",
      "4    984.036824  \n",
      "5    752.959999  \n",
      "6    591.514192  \n",
      "7    475.817182  \n",
      "8    389.237531  \n",
      "9    322.823838  \n",
      "10   270.867416  \n",
      "11   196.222414  \n",
      "12   146.575349  \n",
      "13   112.189052  \n",
      "14    87.594344  \n",
      "\u001b[92mSelected power to have scale free network is 9.\u001b[0m\n",
      "\u001b[96mcalculating adjacency matrix ...\u001b[0m\n",
      "\tDone..\n",
      "\n",
      "\u001b[96mcalculating TOM similarity matrix ...\u001b[0m\n",
      "\tDone..\n",
      "\n",
      "\u001b[96mGoing through the merge tree...\u001b[0m\n",
      "..cutHeight not given, setting it to 0.996  ===>  99% of the (truncated) height range in dendro.\n",
      "\tDone..\n",
      "\n",
      "\u001b[96mCalculating 26 module eigengenes in given set...\u001b[0m\n",
      "\tDone..\n",
      "\n",
      "mergeCloseModules: Merging modules whose distance is less than 0.2\n",
      "fixDataStructure: data is not a Dictionary: converting it into one.\n",
      "multiSetMEs: Calculating module MEs.\n",
      "  Working on set 1 ...\n",
      "\u001b[96mCalculating 26 module eigengenes in given set...\u001b[0m\n",
      "\tDone..\n",
      "\n",
      "multiSetMEs: Calculating module MEs.\n",
      "  Working on set 1 ...\n",
      "\u001b[96mCalculating 24 module eigengenes in given set...\u001b[0m\n",
      "\tDone..\n",
      "\n",
      "multiSetMEs: Calculating module MEs.\n",
      "  Working on set 1 ...\n",
      "\u001b[96mCalculating 23 module eigengenes in given set...\u001b[0m\n",
      "\tDone..\n",
      "\n",
      "multiSetMEs: Calculating module MEs.\n",
      "  Working on set 1 ...\n",
      "\u001b[96mCalculating 22 module eigengenes in given set...\u001b[0m\n",
      "\tDone..\n",
      "\n",
      "  Calculating new MEs...\n",
      "multiSetMEs: Calculating module MEs.\n",
      "  Working on set 1 ...\n",
      "\u001b[96mCalculating 22 module eigengenes in given set...\u001b[0m\n",
      "\tDone..\n",
      "\n",
      "\u001b[96mCalculating 22 module eigengenes in given set...\u001b[0m\n",
      "\tDone..\n",
      "\n",
      "fixDataStructure: data is not a Dictionary: converting it into one.\n",
      "orderMEs: order not given, calculating using given set 0\n",
      "\tDone running WGCNA..\n",
      "\n"
     ]
    },
    {
     "data": {
      "image/png": "[encoded data removed]",
      "text/plain": [
       "<Figure size 720x360 with 2 Axes>"
      ]
     },
     "metadata": {
      "needs_background": "light"
     },
     "output_type": "display_data"
    }
   ],
   "source": [
    "pyWGCNA_5xFAD.findModules()"
   ]
  },
  {
   "cell_type": "markdown",
   "metadata": {},
   "source": [
    "We also can merge two previous steps by calling `runWGCNA()` function.\n",
    "\n",
    "## Relating modules to external information and identifying important genes\n",
    "PyWGCNA gather some important analysis after identifying modules in `analyseWGCNA()` function including:\n",
    "\n",
    "1. Quantifying module–trait relationship \n",
    "2. Gene relationship to trait and modules\n",
    "\n",
    "keep in your mind before start analysing don't forget to add any information you have about samples or genes.\n",
    "\n",
    "For showing module relationship heatmap, PyWGCNA needs user to indicate color from [Matplotlib colors](https://matplotlib.org/stable/gallery/color/named_colors.html) for metadata by using `setMetadataColor()` function.\n",
    "\n",
    "You also can select which data Trait in which order you wish to show in module eigen gene heatmap"
   ]
  },
  {
   "cell_type": "code",
   "execution_count": 13,
   "metadata": {},
   "outputs": [
    {
     "name": "stdout",
     "output_type": "stream",
     "text": [
      "\u001b[1m\u001b[94mAnalysing WGCNA...\u001b[0m\n",
      "\u001b[96mcalculating module trait relationship ...\u001b[0m\n",
      "\tDone..\n",
      "\n",
      "\u001b[96mAdding genes for each modules ...\u001b[0m\n",
      "\tDone..\n",
      "\n",
      "\u001b[96mplotting module heatmap eigengene...\u001b[0m\n",
      "\tDone..\n",
      "\n",
      "\u001b[96mplotting Go term for each module...\u001b[0m\n",
      "\u001b[92mXhecking requirements for saving Go Term\u001b[0m\n",
      "\u001b[93mGo_term directory does not exist!\n",
      "Creating Go_term directory!\u001b[0m\n",
      "\u001b[92mXhecking requirements for saving Go Term\u001b[0m\n",
      "\u001b[92mXhecking requirements for saving Go Term\u001b[0m\n",
      "\u001b[92mXhecking requirements for saving Go Term\u001b[0m\n",
      "\u001b[92mXhecking requirements for saving Go Term\u001b[0m\n",
      "\u001b[92mXhecking requirements for saving Go Term\u001b[0m\n",
      "\u001b[92mXhecking requirements for saving Go Term\u001b[0m\n",
      "\u001b[92mXhecking requirements for saving Go Term\u001b[0m\n"
     ]
    },
    {
     "name": "stderr",
     "output_type": "stream",
     "text": [
      "2022-02-28 22:35:06,949 Warning: No enrich terms using library GO_Biological_Process_2021 when cutoff = 0.5\n"
     ]
    },
    {
     "name": "stdout",
     "output_type": "stream",
     "text": [
      "\u001b[92mXhecking requirements for saving Go Term\u001b[0m\n"
     ]
    },
    {
     "name": "stderr",
     "output_type": "stream",
     "text": [
      "2022-02-28 22:35:33,468 Warning: No enrich terms using library GO_Biological_Process_2021 when cutoff = 0.5\n"
     ]
    },
    {
     "name": "stdout",
     "output_type": "stream",
     "text": [
      "\u001b[92mXhecking requirements for saving Go Term\u001b[0m\n",
      "\u001b[92mXhecking requirements for saving Go Term\u001b[0m\n",
      "\u001b[92mXhecking requirements for saving Go Term\u001b[0m\n",
      "\u001b[92mXhecking requirements for saving Go Term\u001b[0m\n",
      "\u001b[92mXhecking requirements for saving Go Term\u001b[0m\n",
      "\u001b[92mXhecking requirements for saving Go Term\u001b[0m\n",
      "\u001b[92mXhecking requirements for saving Go Term\u001b[0m\n",
      "\u001b[92mXhecking requirements for saving Go Term\u001b[0m\n",
      "\u001b[92mXhecking requirements for saving Go Term\u001b[0m\n",
      "\u001b[92mXhecking requirements for saving Go Term\u001b[0m\n",
      "\u001b[92mXhecking requirements for saving Go Term\u001b[0m\n",
      "\u001b[92mXhecking requirements for saving Go Term\u001b[0m\n",
      "\u001b[92mXhecking requirements for saving Go Term\u001b[0m\n",
      "\tDone..\n",
      "\n"
     ]
    }
   ],
   "source": [
    "pyWGCNA_5xFAD.addSampleInfo(path='5xFAD_paper/metaData', \n",
    "                            sep='\\t')\n",
    "# add color for metadata\n",
    "pyWGCNA_5xFAD.setMetadataColor('Sex', {'Female': 'green',\n",
    "                                       'Male': 'yellow'})\n",
    "pyWGCNA_5xFAD.setMetadataColor('Genotype', {'5xFADWT': 'darkviolet',\n",
    "                                            '5xFADHEMI': 'deeppink'})\n",
    "pyWGCNA_5xFAD.setMetadataColor('Age', {'4mon': 'thistle',\n",
    "                                       '8mon': 'plum',\n",
    "                                       '12mon': 'violet',\n",
    "                                       '18mon': 'purple'})\n",
    "pyWGCNA_5xFAD.setMetadataColor('Tissue', {'Hippocampus': 'red',\n",
    "                                          'Cortex': 'blue'})\n",
    "\n",
    "geneList = PyWGCNA.getGeneList(dataset='mmusculus_gene_ensembl',\n",
    "                               attributes=['ensembl_transcript_id', \n",
    "                                           'mgi_symbol', \n",
    "                                           'ensembl_gene_id', \n",
    "                                           'ensembl_peptide_id'])\n",
    "\n",
    "\n",
    "pyWGCNA_5xFAD = pyWGCNA_5xFAD.analyseWGCNA(geneList=geneList)"
   ]
  },
  {
   "cell_type": "markdown",
   "metadata": {},
   "source": [
    "## Saving and loading your PyWGCNA\n",
    "you can save or load your PyWGCNA object with `saveWGCNA()` or `readWGCNA()` function."
   ]
  },
  {
   "cell_type": "code",
   "execution_count": 14,
   "metadata": {},
   "outputs": [
    {
     "name": "stdout",
     "output_type": "stream",
     "text": [
      "\u001b[1m\u001b[94mSaving WGCNA as 5xFAD.p\u001b[0m\n"
     ]
    }
   ],
   "source": [
    "pyWGCNA_5xFAD.saveWGCNA()"
   ]
  },
  {
   "cell_type": "markdown",
   "metadata": {},
   "source": [
    "you can also load your PyWGCNA object with `readWGCNA()` function."
   ]
  },
  {
   "cell_type": "code",
   "execution_count": 31,
   "metadata": {},
   "outputs": [
    {
     "name": "stdout",
     "output_type": "stream",
     "text": [
      "\u001b[1m\u001b[94mReading WGCNA done!\u001b[0m\n"
     ]
    }
   ],
   "source": [
    "pyWGCNA_5xFAD = PyWGCNA.readWGCNA(\"5xFAD.p\")"
   ]
  }
 ],
 "metadata": {
  "kernelspec": {
   "display_name": "Python 3 (ipykernel)",
   "language": "python",
   "name": "python3"
  },
  "language_info": {
   "codemirror_mode": {
    "name": "ipython",
    "version": 3
   },
   "file_extension": ".py",
   "mimetype": "text/x-python",
   "name": "python",
   "nbconvert_exporter": "python",
   "pygments_lexer": "ipython3",
   "version": "3.8.12"
  }
 },
 "nbformat": 4,
 "nbformat_minor": 1
}
