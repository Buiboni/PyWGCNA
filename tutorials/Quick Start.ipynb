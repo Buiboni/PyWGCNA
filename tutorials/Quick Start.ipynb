{
 "cells": [
  {
   "cell_type": "markdown",
   "metadata": {},
   "source": [
    "# Quick start: initializing, adding data, runing and saving your PyWGCNA\n",
    "\n",
    "First, make sure to [install PyWGCNA](https://github.com/mortazavilab/PyWGCNA#readme).\n",
    "\n",
    "Then, download the data from [here](http://hubble.bio.uci.edu/nargesr/5xFAD_paper/).\n",
    "\n",
    "For this tutorial, we will be analyzing the TPM matrix of 5xFAD mouse from [MODEL-AD](https://www.model-ad.org/) portal and [this paper](https://www.nature.com/articles/s41597-021-01054-y) in Scientific Data which has 5548 genes and 193 samples in four different time point.\n",
    "\n",
    "## Setupping up PyWGCNA object\n",
    "\n",
    "We use the TPM matrix to create a PyWGCNA object. The object serves as a container that contains both data (like the TPM matrix) and analysis (like clustering, or visualizing results) for a Bulk RNA-seq dataset. For a technical discussion of the PyWGCNA object structure, check out our [GitHub Wiki](https://github.com/mortazavilab/PyWGCNA.wiki.git). For example, the raw TPM matrix is stored in `GeneExp` class."
   ]
  },
  {
   "cell_type": "code",
   "execution_count": 4,
   "metadata": {},
   "outputs": [
    {
     "name": "stdout",
     "output_type": "stream",
     "text": [
      "\u001b[92mSaving data to be True, checking requirements ...\u001b[0m\n"
     ]
    },
    {
     "data": {
      "text/html": [
       "<div>\n",
       "<style scoped>\n",
       "    .dataframe tbody tr th:only-of-type {\n",
       "        vertical-align: middle;\n",
       "    }\n",
       "\n",
       "    .dataframe tbody tr th {\n",
       "        vertical-align: top;\n",
       "    }\n",
       "\n",
       "    .dataframe thead th {\n",
       "        text-align: right;\n",
       "    }\n",
       "</style>\n",
       "<table border=\"1\" class=\"dataframe\">\n",
       "  <thead>\n",
       "    <tr style=\"text-align: right;\">\n",
       "      <th></th>\n",
       "      <th>X4mo_cortex_F_5xFADHEMI_430</th>\n",
       "      <th>X4mo_cortex_F_5xFADHEMI_431</th>\n",
       "      <th>X4mo_cortex_F_5xFADHEMI_433</th>\n",
       "      <th>X4mo_cortex_F_5xFADHEMI_434</th>\n",
       "      <th>X4mo_cortex_F_5xFADHEMI_511</th>\n",
       "      <th>X4mo_cortex_F_5xFADWT_330</th>\n",
       "      <th>X4mo_cortex_F_5xFADWT_331</th>\n",
       "      <th>X4mo_cortex_F_5xFADWT_432</th>\n",
       "      <th>X4mo_cortex_F_5xFADWT_507</th>\n",
       "      <th>X4mo_cortex_F_5xFADWT_518</th>\n",
       "      <th>...</th>\n",
       "      <th>X18mo_hipp_M_5xFADHEMI_567</th>\n",
       "      <th>X18mo_hipp_M_5xFADHEMI_617</th>\n",
       "      <th>X18mo_hipp_M_5xFADHEMI_627</th>\n",
       "      <th>X18mo_hipp_M_5xFADHEMI_640</th>\n",
       "      <th>X18mo_hipp_M_5xFADHEMI_786</th>\n",
       "      <th>X18mo_hipp_M_5xFADWT_301</th>\n",
       "      <th>X18mo_hipp_M_5xFADWT_566</th>\n",
       "      <th>X18mo_hipp_M_5xFADWT_641</th>\n",
       "      <th>X18mo_hipp_M_5xFADWT_643</th>\n",
       "      <th>X18mo_hipp_M_5xFADWT_785</th>\n",
       "    </tr>\n",
       "    <tr>\n",
       "      <th>gene_id</th>\n",
       "      <th></th>\n",
       "      <th></th>\n",
       "      <th></th>\n",
       "      <th></th>\n",
       "      <th></th>\n",
       "      <th></th>\n",
       "      <th></th>\n",
       "      <th></th>\n",
       "      <th></th>\n",
       "      <th></th>\n",
       "      <th></th>\n",
       "      <th></th>\n",
       "      <th></th>\n",
       "      <th></th>\n",
       "      <th></th>\n",
       "      <th></th>\n",
       "      <th></th>\n",
       "      <th></th>\n",
       "      <th></th>\n",
       "      <th></th>\n",
       "      <th></th>\n",
       "    </tr>\n",
       "  </thead>\n",
       "  <tbody>\n",
       "    <tr>\n",
       "      <th>ENSMUSG00000000003.15</th>\n",
       "      <td>0.00</td>\n",
       "      <td>0.00</td>\n",
       "      <td>0.00</td>\n",
       "      <td>0.00</td>\n",
       "      <td>0.00</td>\n",
       "      <td>0.00</td>\n",
       "      <td>0.00</td>\n",
       "      <td>0.00</td>\n",
       "      <td>0.00</td>\n",
       "      <td>0.00</td>\n",
       "      <td>...</td>\n",
       "      <td>0.00</td>\n",
       "      <td>0.00</td>\n",
       "      <td>0.00</td>\n",
       "      <td>0.00</td>\n",
       "      <td>0.00</td>\n",
       "      <td>0.00</td>\n",
       "      <td>0.00</td>\n",
       "      <td>0.00</td>\n",
       "      <td>0.00</td>\n",
       "      <td>0.00</td>\n",
       "    </tr>\n",
       "    <tr>\n",
       "      <th>ENSMUSG00000000028.15</th>\n",
       "      <td>1.90</td>\n",
       "      <td>1.10</td>\n",
       "      <td>1.18</td>\n",
       "      <td>2.18</td>\n",
       "      <td>1.50</td>\n",
       "      <td>1.75</td>\n",
       "      <td>1.15</td>\n",
       "      <td>0.78</td>\n",
       "      <td>1.26</td>\n",
       "      <td>1.05</td>\n",
       "      <td>...</td>\n",
       "      <td>2.10</td>\n",
       "      <td>2.15</td>\n",
       "      <td>1.85</td>\n",
       "      <td>1.80</td>\n",
       "      <td>1.76</td>\n",
       "      <td>1.84</td>\n",
       "      <td>1.76</td>\n",
       "      <td>1.57</td>\n",
       "      <td>1.00</td>\n",
       "      <td>0.76</td>\n",
       "    </tr>\n",
       "    <tr>\n",
       "      <th>ENSMUSG00000000031.16</th>\n",
       "      <td>0.00</td>\n",
       "      <td>0.06</td>\n",
       "      <td>0.07</td>\n",
       "      <td>0.00</td>\n",
       "      <td>0.10</td>\n",
       "      <td>0.12</td>\n",
       "      <td>0.29</td>\n",
       "      <td>0.00</td>\n",
       "      <td>0.00</td>\n",
       "      <td>0.04</td>\n",
       "      <td>...</td>\n",
       "      <td>0.40</td>\n",
       "      <td>0.32</td>\n",
       "      <td>0.24</td>\n",
       "      <td>0.45</td>\n",
       "      <td>0.21</td>\n",
       "      <td>0.00</td>\n",
       "      <td>0.00</td>\n",
       "      <td>0.17</td>\n",
       "      <td>0.15</td>\n",
       "      <td>0.00</td>\n",
       "    </tr>\n",
       "    <tr>\n",
       "      <th>ENSMUSG00000000037.16</th>\n",
       "      <td>0.13</td>\n",
       "      <td>0.07</td>\n",
       "      <td>0.13</td>\n",
       "      <td>0.07</td>\n",
       "      <td>0.14</td>\n",
       "      <td>0.08</td>\n",
       "      <td>0.16</td>\n",
       "      <td>0.15</td>\n",
       "      <td>0.08</td>\n",
       "      <td>0.11</td>\n",
       "      <td>...</td>\n",
       "      <td>0.00</td>\n",
       "      <td>0.07</td>\n",
       "      <td>0.09</td>\n",
       "      <td>0.10</td>\n",
       "      <td>0.04</td>\n",
       "      <td>0.12</td>\n",
       "      <td>0.04</td>\n",
       "      <td>0.09</td>\n",
       "      <td>0.13</td>\n",
       "      <td>0.15</td>\n",
       "    </tr>\n",
       "    <tr>\n",
       "      <th>ENSMUSG00000000049.11</th>\n",
       "      <td>0.43</td>\n",
       "      <td>0.18</td>\n",
       "      <td>1.90</td>\n",
       "      <td>0.31</td>\n",
       "      <td>0.53</td>\n",
       "      <td>0.44</td>\n",
       "      <td>1.92</td>\n",
       "      <td>0.40</td>\n",
       "      <td>0.88</td>\n",
       "      <td>0.37</td>\n",
       "      <td>...</td>\n",
       "      <td>3.23</td>\n",
       "      <td>0.85</td>\n",
       "      <td>0.54</td>\n",
       "      <td>0.09</td>\n",
       "      <td>0.39</td>\n",
       "      <td>0.77</td>\n",
       "      <td>1.50</td>\n",
       "      <td>1.69</td>\n",
       "      <td>0.48</td>\n",
       "      <td>1.15</td>\n",
       "    </tr>\n",
       "  </tbody>\n",
       "</table>\n",
       "<p>5 rows × 192 columns</p>\n",
       "</div>"
      ],
      "text/plain": [
       "                       X4mo_cortex_F_5xFADHEMI_430  \\\n",
       "gene_id                                              \n",
       "ENSMUSG00000000003.15                         0.00   \n",
       "ENSMUSG00000000028.15                         1.90   \n",
       "ENSMUSG00000000031.16                         0.00   \n",
       "ENSMUSG00000000037.16                         0.13   \n",
       "ENSMUSG00000000049.11                         0.43   \n",
       "\n",
       "                       X4mo_cortex_F_5xFADHEMI_431  \\\n",
       "gene_id                                              \n",
       "ENSMUSG00000000003.15                         0.00   \n",
       "ENSMUSG00000000028.15                         1.10   \n",
       "ENSMUSG00000000031.16                         0.06   \n",
       "ENSMUSG00000000037.16                         0.07   \n",
       "ENSMUSG00000000049.11                         0.18   \n",
       "\n",
       "                       X4mo_cortex_F_5xFADHEMI_433  \\\n",
       "gene_id                                              \n",
       "ENSMUSG00000000003.15                         0.00   \n",
       "ENSMUSG00000000028.15                         1.18   \n",
       "ENSMUSG00000000031.16                         0.07   \n",
       "ENSMUSG00000000037.16                         0.13   \n",
       "ENSMUSG00000000049.11                         1.90   \n",
       "\n",
       "                       X4mo_cortex_F_5xFADHEMI_434  \\\n",
       "gene_id                                              \n",
       "ENSMUSG00000000003.15                         0.00   \n",
       "ENSMUSG00000000028.15                         2.18   \n",
       "ENSMUSG00000000031.16                         0.00   \n",
       "ENSMUSG00000000037.16                         0.07   \n",
       "ENSMUSG00000000049.11                         0.31   \n",
       "\n",
       "                       X4mo_cortex_F_5xFADHEMI_511  X4mo_cortex_F_5xFADWT_330  \\\n",
       "gene_id                                                                         \n",
       "ENSMUSG00000000003.15                         0.00                       0.00   \n",
       "ENSMUSG00000000028.15                         1.50                       1.75   \n",
       "ENSMUSG00000000031.16                         0.10                       0.12   \n",
       "ENSMUSG00000000037.16                         0.14                       0.08   \n",
       "ENSMUSG00000000049.11                         0.53                       0.44   \n",
       "\n",
       "                       X4mo_cortex_F_5xFADWT_331  X4mo_cortex_F_5xFADWT_432  \\\n",
       "gene_id                                                                       \n",
       "ENSMUSG00000000003.15                       0.00                       0.00   \n",
       "ENSMUSG00000000028.15                       1.15                       0.78   \n",
       "ENSMUSG00000000031.16                       0.29                       0.00   \n",
       "ENSMUSG00000000037.16                       0.16                       0.15   \n",
       "ENSMUSG00000000049.11                       1.92                       0.40   \n",
       "\n",
       "                       X4mo_cortex_F_5xFADWT_507  X4mo_cortex_F_5xFADWT_518  \\\n",
       "gene_id                                                                       \n",
       "ENSMUSG00000000003.15                       0.00                       0.00   \n",
       "ENSMUSG00000000028.15                       1.26                       1.05   \n",
       "ENSMUSG00000000031.16                       0.00                       0.04   \n",
       "ENSMUSG00000000037.16                       0.08                       0.11   \n",
       "ENSMUSG00000000049.11                       0.88                       0.37   \n",
       "\n",
       "                       ...  X18mo_hipp_M_5xFADHEMI_567  \\\n",
       "gene_id                ...                               \n",
       "ENSMUSG00000000003.15  ...                        0.00   \n",
       "ENSMUSG00000000028.15  ...                        2.10   \n",
       "ENSMUSG00000000031.16  ...                        0.40   \n",
       "ENSMUSG00000000037.16  ...                        0.00   \n",
       "ENSMUSG00000000049.11  ...                        3.23   \n",
       "\n",
       "                       X18mo_hipp_M_5xFADHEMI_617  X18mo_hipp_M_5xFADHEMI_627  \\\n",
       "gene_id                                                                         \n",
       "ENSMUSG00000000003.15                        0.00                        0.00   \n",
       "ENSMUSG00000000028.15                        2.15                        1.85   \n",
       "ENSMUSG00000000031.16                        0.32                        0.24   \n",
       "ENSMUSG00000000037.16                        0.07                        0.09   \n",
       "ENSMUSG00000000049.11                        0.85                        0.54   \n",
       "\n",
       "                       X18mo_hipp_M_5xFADHEMI_640  X18mo_hipp_M_5xFADHEMI_786  \\\n",
       "gene_id                                                                         \n",
       "ENSMUSG00000000003.15                        0.00                        0.00   \n",
       "ENSMUSG00000000028.15                        1.80                        1.76   \n",
       "ENSMUSG00000000031.16                        0.45                        0.21   \n",
       "ENSMUSG00000000037.16                        0.10                        0.04   \n",
       "ENSMUSG00000000049.11                        0.09                        0.39   \n",
       "\n",
       "                       X18mo_hipp_M_5xFADWT_301  X18mo_hipp_M_5xFADWT_566  \\\n",
       "gene_id                                                                     \n",
       "ENSMUSG00000000003.15                      0.00                      0.00   \n",
       "ENSMUSG00000000028.15                      1.84                      1.76   \n",
       "ENSMUSG00000000031.16                      0.00                      0.00   \n",
       "ENSMUSG00000000037.16                      0.12                      0.04   \n",
       "ENSMUSG00000000049.11                      0.77                      1.50   \n",
       "\n",
       "                       X18mo_hipp_M_5xFADWT_641  X18mo_hipp_M_5xFADWT_643  \\\n",
       "gene_id                                                                     \n",
       "ENSMUSG00000000003.15                      0.00                      0.00   \n",
       "ENSMUSG00000000028.15                      1.57                      1.00   \n",
       "ENSMUSG00000000031.16                      0.17                      0.15   \n",
       "ENSMUSG00000000037.16                      0.09                      0.13   \n",
       "ENSMUSG00000000049.11                      1.69                      0.48   \n",
       "\n",
       "                       X18mo_hipp_M_5xFADWT_785  \n",
       "gene_id                                          \n",
       "ENSMUSG00000000003.15                      0.00  \n",
       "ENSMUSG00000000028.15                      0.76  \n",
       "ENSMUSG00000000031.16                      0.00  \n",
       "ENSMUSG00000000037.16                      0.15  \n",
       "ENSMUSG00000000049.11                      1.15  \n",
       "\n",
       "[5 rows x 192 columns]"
      ]
     },
     "execution_count": 4,
     "metadata": {},
     "output_type": "execute_result"
    }
   ],
   "source": [
    "import PyWGCNA\n",
    "geneExp = '5xFAD_paper/expressionList_sorted'\n",
    "pyWGCNA_5xFAD = PyWGCNA.WGCNA(name='5xFAD', \n",
    "                              geneExpPath=geneExp, \n",
    "                              sep='\\t', save=True)\n",
    "pyWGCNA_5xFAD.expressionList.head(5)"
   ]
  },
  {
   "cell_type": "markdown",
   "metadata": {},
   "source": [
    "## Pre-processing workflow\n",
    "\n",
    "PyWGCNA allows you to easily preproces the data including removing genes with too many missing values or really low expressed across samples(in default we suggest to remove genes without any expression more than 1 TPM) and also removing samples with too many missing values or not matched with. "
   ]
  },
  {
   "cell_type": "code",
   "execution_count": 5,
   "metadata": {},
   "outputs": [
    {
     "name": "stdout",
     "output_type": "stream",
     "text": [
      "\tDetecting genes and samples with too many missing values...\n"
     ]
    },
    {
     "data": {
      "text/plain": [
       "<Figure size 432x288 with 0 Axes>"
      ]
     },
     "metadata": {},
     "output_type": "display_data"
    }
   ],
   "source": [
    "#ABI3.TPMcutoff = TPMcutoff\n",
    "#ABI3.cut = cut\n",
    "pyWGCNA_5xFAD.preprocess()"
   ]
  },
  {
   "cell_type": "markdown",
   "metadata": {},
   "source": [
    "# Clustering data"
   ]
  },
  {
   "cell_type": "code",
   "execution_count": 2,
   "metadata": {},
   "outputs": [
    {
     "name": "stdout",
     "output_type": "stream",
     "text": [
      "\u001b[92mSaving data to be True, checking requirements ...\u001b[0m\n",
      "\u001b[1m\u001b[94mPre processing...\u001b[0m\n",
      "\tDetecting genes and samples with too many missing values...\n",
      "\u001b[1m\u001b[94mRun WGCNA...\u001b[0m\n",
      "\u001b[96mpickSoftThreshold: calculating connectivity for given powers...\u001b[0m\n",
      "will use block size  2194\n",
      "    Power  SFT.R.sq     slope truncated R.sq      mean(k)    median(k)  \\\n",
      "0       1  0.011869  0.190761       0.785501  2886.399671  2881.035006   \n",
      "1       2  0.365749  -0.82836       0.916438  1047.792562   956.811729   \n",
      "2       3  0.725503 -1.370225       0.956383   480.391367   384.286824   \n",
      "3       4  0.834685 -1.599769       0.960714   255.565397   179.924354   \n",
      "4       5  0.885821 -1.687502       0.962468   150.730061    91.670867   \n",
      "5       6  0.913168 -1.709051       0.963403    95.842073    49.756373   \n",
      "6       7  0.884317 -1.781186       0.932658    64.506154    28.810822   \n",
      "7       8  0.874786 -1.806566       0.920836    45.379673    17.622977   \n",
      "8       9  0.874302 -1.808315        0.91948    33.071383    11.047045   \n",
      "9      10  0.863853 -1.816266       0.915843    24.805217     7.149358   \n",
      "10     11  0.873524  -1.80458       0.924891    19.055605     4.710828   \n",
      "11     13  0.874875 -1.786017       0.931643    11.914978     2.138466   \n",
      "12     15  0.863421 -1.795204       0.933675     7.918264     1.031782   \n",
      "13     17  0.866623 -1.790474       0.941079     5.519927     0.528066   \n",
      "14     19  0.878699 -1.756696       0.957266     4.001528     0.274343   \n",
      "\n",
      "         max(k)  \n",
      "0   5570.807425  \n",
      "1   2760.775242  \n",
      "2   1777.823532  \n",
      "3   1296.317543  \n",
      "4   1002.387161  \n",
      "5    805.399587  \n",
      "6    672.291422  \n",
      "7    571.839117  \n",
      "8    493.421587  \n",
      "9    430.610677  \n",
      "10   379.276187  \n",
      "11   300.741304  \n",
      "12   243.928536  \n",
      "13   201.321729  \n",
      "14   168.482944  \n",
      "\u001b[92mSelected power to have scale free network is 6.\u001b[0m\n",
      "\u001b[96mcalculating adjacency matrix ...\u001b[0m\n",
      "\tDone..\n",
      "\n",
      "\u001b[96mcalculating TOM similarity matrix ...\u001b[0m\n",
      "\tDone..\n",
      "\n",
      "\u001b[96mGoing through the merge tree...\u001b[0m\n",
      "..cutHeight not given, setting it to 0.996  ===>  99% of the (truncated) height range in dendro.\n",
      "\tDone..\n",
      "\n",
      "\u001b[96mCalculating 47 module eigengenes in given set...\u001b[0m\n",
      "\tDone..\n",
      "\n",
      "mergeCloseModules: Merging modules whose distance is less than 0.2\n",
      "multiSetMEs: Calculating module MEs.\n",
      "  Working on set 1 ...\n",
      "\u001b[96mCalculating 47 module eigengenes in given set...\u001b[0m\n",
      "\tDone..\n",
      "\n",
      "  Calculating new MEs...\n",
      "multiSetMEs: Calculating module MEs.\n",
      "  Working on set 1 ...\n",
      "\u001b[96mCalculating 47 module eigengenes in given set...\u001b[0m\n",
      "\tDone..\n",
      "\n",
      "\u001b[96mCalculating 47 module eigengenes in given set...\u001b[0m\n",
      "\tDone..\n",
      "\n",
      "\u001b[1m\u001b[94mSaving WGCNA as ABI3.p\u001b[0m\n"
     ]
    },
    {
     "data": {
      "image/png": "[encoded data removed]",
      "text/plain": [
       "<Figure size 432x288 with 1 Axes>"
      ]
     },
     "metadata": {
      "needs_background": "light"
     },
     "output_type": "display_data"
    },
    {
     "data": {
      "image/png": "[encoded data removed]",
      "text/plain": [
       "<Figure size 720x360 with 2 Axes>"
      ]
     },
     "metadata": {
      "needs_background": "light"
     },
     "output_type": "display_data"
    },
    {
     "data": {
      "image/png": "[encoded data removed]",
      "text/plain": [
       "<Figure size 1080x360 with 1 Axes>"
      ]
     },
     "metadata": {
      "needs_background": "light"
     },
     "output_type": "display_data"
    }
   ],
   "source": [
    "\n",
    "ABI3 = ABI3.runWGCNA()\n",
    "ABI3.save_WGCNA()"
   ]
  },
  {
   "cell_type": "markdown",
   "metadata": {},
   "source": [
    "# Read WGCNA"
   ]
  },
  {
   "cell_type": "code",
   "execution_count": 5,
   "metadata": {},
   "outputs": [
    {
     "name": "stdout",
     "output_type": "stream",
     "text": [
      "\u001b[1m\u001b[94mReading WGCNA done!\u001b[0m\n"
     ]
    }
   ],
   "source": [
    "ABI3 = PyWGCNA.read_WGCNA(\"ABI3.p\")"
   ]
  },
  {
   "cell_type": "markdown",
   "metadata": {},
   "source": [
    "# Analyse WGCNA\n"
   ]
  },
  {
   "cell_type": "code",
   "execution_count": 6,
   "metadata": {},
   "outputs": [
    {
     "name": "stdout",
     "output_type": "stream",
     "text": [
      "\u001b[1m\u001b[94mAnalysing WGCNA...\u001b[0m\n",
      "\u001b[96mcalculating module trait relationship ...\u001b[0m\n",
      "\tDone..\n",
      "\n",
      "\u001b[96mAdding genes for each modules ...\u001b[0m\n",
      "\tDone..\n",
      "\n",
      "\u001b[1m\u001b[94mSaving WGCNA as ABI3.p\u001b[0m\n"
     ]
    }
   ],
   "source": [
    "ABI3.addSampleInfo(path='5xFAD_ABI3/metaData', sep='\\t')\n",
    "# add color for metadata\n",
    "ABI3.setMetadataColor('Sex', {'Female': 'green',\n",
    "                                 'Male': 'yellow'})\n",
    "ABI3.setMetadataColor('Genotype', {'5xFADHEMI': 'purple',\n",
    "                                   '5xFADHEMI_ABI3HO': 'cyan',\n",
    "                                   '5xFADWT': 'darkviolet',\n",
    "                                   '5xFADWT_ABI3HO': 'deeppink'})\n",
    "ABI3.setMetadataColor('age', {'4mon': 'blue'})\n",
    "ABI3.setMetadataColor('Tissue', {'Hippocampus': 'red'})\n",
    "ABI3 = ABI3.analyseWGCNA()\n",
    "ABI3.save_WGCNA()"
   ]
  }
 ],
 "metadata": {
  "kernelspec": {
   "display_name": "Python 3 (ipykernel)",
   "language": "python",
   "name": "python3"
  },
  "language_info": {
   "codemirror_mode": {
    "name": "ipython",
    "version": 3
   },
   "file_extension": ".py",
   "mimetype": "text/x-python",
   "name": "python",
   "nbconvert_exporter": "python",
   "pygments_lexer": "ipython3",
   "version": "3.8.12"
  }
 },
 "nbformat": 4,
 "nbformat_minor": 1
}
